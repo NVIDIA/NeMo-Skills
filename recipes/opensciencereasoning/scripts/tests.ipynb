{
 "cells": [
  {
   "cell_type": "code",
   "execution_count": 11,
   "id": "756777a6",
   "metadata": {},
   "outputs": [],
   "source": [
    "import re\n",
    "\n",
    "def count_options(text: str) -> int:\n",
    "    \"\"\"Count how many options are present based on typical MCQ formatting.\"\"\"\n",
    "    # typical patterns: A), A., (A), - (A) ...\n",
    "    # We'll count lines starting with [A-Z][.)]\n",
    "    return len(re.findall(r\"[\\(\\[]?[A-Z][\\)\\].:]\", text.upper()))"
   ]
  },
  {
   "cell_type": "code",
   "execution_count": 39,
   "id": "ead38a7c",
   "metadata": {},
   "outputs": [
    {
     "data": {
      "text/plain": [
       "3"
      ]
     },
     "execution_count": 39,
     "metadata": {},
     "output_type": "execute_result"
    }
   ],
   "source": [
    "problem = \"skubsdkb adna kaudk\\n\\nA) swndka\\nB) asdka\\nC) asdkas\"\n",
    "\n",
    "count_options(problem)\n"
   ]
  },
  {
   "cell_type": "code",
   "execution_count": 1,
   "id": "343c4c16",
   "metadata": {},
   "outputs": [],
   "source": [
    "\n",
    "def count_options(problem):\n",
    "    parts = problem.split('\\n\\n')\n",
    "    options_part = None\n",
    "    for part in parts:\n",
    "        if part.startswith('A) '):\n",
    "            options_part = part\n",
    "            break\n",
    "    if not options_part:\n",
    "        return 0\n",
    "    \n",
    "    for i, option in enumerate(options_part.split('\\n')):\n",
    "        if not option.startswith(f\"{chr(ord('A') + i)}) \"):\n",
    "            return i\n",
    "    return i + 1"
   ]
  },
  {
   "cell_type": "code",
   "execution_count": 41,
   "id": "8c2b7b6a",
   "metadata": {},
   "outputs": [
    {
     "data": {
      "text/plain": [
       "3"
      ]
     },
     "execution_count": 41,
     "metadata": {},
     "output_type": "execute_result"
    }
   ],
   "source": [
    "check_options(problem)"
   ]
  },
  {
   "cell_type": "code",
   "execution_count": null,
   "id": "fcaf17ad",
   "metadata": {},
   "outputs": [],
   "source": []
  },
  {
   "cell_type": "code",
   "execution_count": null,
   "id": "161578aa",
   "metadata": {},
   "outputs": [],
   "source": []
  }
 ],
 "metadata": {
  "kernelspec": {
   "display_name": ".venv",
   "language": "python",
   "name": "python3"
  },
  "language_info": {
   "codemirror_mode": {
    "name": "ipython",
    "version": 3
   },
   "file_extension": ".py",
   "mimetype": "text/x-python",
   "name": "python",
   "nbconvert_exporter": "python",
   "pygments_lexer": "ipython3",
   "version": "3.12.10"
  }
 },
 "nbformat": 4,
 "nbformat_minor": 5
}
